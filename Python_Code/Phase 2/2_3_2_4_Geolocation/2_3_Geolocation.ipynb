{
 "cells": [
  {
   "cell_type": "markdown",
   "id": "2dc18f4f",
   "metadata": {},
   "source": [
    "# 2.3 - 2.4 Combination of Yolo Model with Depth Estimation"
   ]
  },
  {
   "cell_type": "markdown",
   "id": "6f040902",
   "metadata": {},
   "source": [
    "## Idea: Combination of YOLO Model with Depth Estimation and Geolocation\n",
    "\n",
    "- **Mapillary Data Fetching (Metadata) → 2.0**  \n",
    "  The script fetches all objects from Zurich. Any blurry images are detected using `detect_blury_image.py` and marked with a boolean in the metadata file.  \n",
    "  The `.gpkg` contains all relevant files.\n",
    "\n",
    "- **Object Detection (YOLO) → 2.1**  \n",
    "  The YOLO model detects objects in an image and marks them with bounding boxes.\n",
    "\n",
    "- **Depth Estimation → 2.2**  \n",
    "  For each detected object, the distance (depth) to the object is estimated.\n",
    "\n",
    "- **Geolocation → 2.3**  \n",
    "  The objects are displayed in a geographic context by showing their positions on a map.\n"
   ]
  },
  {
   "cell_type": "markdown",
   "id": "fa28d719",
   "metadata": {},
   "source": [
    "## Task 1: Create a `.csv` with all file paths for the main script"
   ]
  },
  {
   "cell_type": "code",
   "execution_count": 1,
   "id": "9924b4f3",
   "metadata": {},
   "outputs": [
    {
     "data": {
      "application/vnd.jupyter.widget-view+json": {
       "model_id": "7835403a8a4b4f8885e88acef9046610",
       "version_major": 2,
       "version_minor": 0
      },
      "text/plain": [
       "Checking file paths:   0%|          | 0/1234551 [00:00<?, ?it/s]"
      ]
     },
     "metadata": {},
     "output_type": "display_data"
    },
    {
     "data": {
      "image/png": "[encoded data removed]",
      "text/plain": [
       "<Figure size 640x480 with 1 Axes>"
      ]
     },
     "metadata": {},
     "output_type": "display_data"
    },
    {
     "data": {
      "text/plain": [
       "18"
      ]
     },
     "execution_count": 1,
     "metadata": {},
     "output_type": "execute_result"
    }
   ],
   "source": [
    "import os\n",
    "import pandas as pd\n",
    "import geopandas as gpd\n",
    "from tqdm.notebook import tqdm\n",
    "from concurrent.futures import ThreadPoolExecutor\n",
    "import matplotlib.pyplot as plt\n",
    "\n",
    "# --- Configuration ---\n",
    "IMAGE_DIR = r\"D:\\Mapillary_Data\"\n",
    "DEPTH_DIR = r\"D:\\Masterarbeit\\03_Model\\Scripts\\2_Feature_Geolocation\\2_2_Model_Depth_Estimation\\data\\depth_processed\"\n",
    "GPKG_PATH = r\"D:\\Masterarbeit\\03_Model\\Scripts\\2_Feature_Geolocation\\2_0_Fetch_Mapillary\\data\\images_bbox_fullmeta_with_blur.gpkg\"\n",
    "\n",
    "ID_FIELD = \"id\"\n",
    "BLURY_FIELD = \"is_blurry\"\n",
    "USE_COLS = [ID_FIELD, BLURY_FIELD]\n",
    "\n",
    "# --- Load GeoPackage with only required columns ---\n",
    "gdf = gpd.read_file(GPKG_PATH)\n",
    "\n",
    "gdf[ID_FIELD] = gdf[ID_FIELD].astype(str)\n",
    "gdf = gdf.set_index(ID_FIELD)\n",
    "\n",
    "# --- Extract ID and blur status from GeoDataFrame ---\n",
    "image_info = list(zip(gdf.index, gdf[BLURY_FIELD]))\n",
    "\n",
    "# --- Path check function ---\n",
    "def check_paths(args):\n",
    "    img_id, is_blury = args\n",
    "    image_path = os.path.join(IMAGE_DIR, f\"{img_id}.jpg\")\n",
    "    depth_path = os.path.join(DEPTH_DIR, f\"{img_id}.npz\")\n",
    "    return {\n",
    "        \"id\": img_id,\n",
    "        \"image_path\": image_path,\n",
    "        \"depth_path\": depth_path,\n",
    "        \"has_image\": os.path.exists(image_path),\n",
    "        \"has_depth\": os.path.exists(depth_path),\n",
    "        \"is_blury\": is_blury\n",
    "    }\n",
    "\n",
    "# --- Run parallel path check ---\n",
    "records = []\n",
    "with ThreadPoolExecutor() as executor:\n",
    "    for result in tqdm(executor.map(check_paths, image_info), total=len(image_info), desc=\"Checking file paths\"):\n",
    "        records.append(result)\n",
    "\n",
    "# --- Create DataFrame ---\n",
    "df_files = pd.DataFrame(records)\n",
    "\n",
    "# --- Define mask for unsuitable images ---\n",
    "unsuitable_mask = (\n",
    "    (df_files[\"is_blury\"] == True) |\n",
    "    (~df_files[\"has_image\"]) |\n",
    "    (~df_files[\"has_depth\"])\n",
    ")\n",
    "\n",
    "# --- Summary with additional \"unsuitable\" entry ---\n",
    "summary = {\n",
    "    \"Image NOT found\": (~df_files[\"has_image\"]).sum(),\n",
    "    \"Depth NOT found\": (~df_files[\"has_depth\"]).sum(),\n",
    "    \"Blurry (is_blury == True)\": (df_files[\"is_blury\"] == True).sum(),\n",
    "    \"Total unsuitable images\": unsuitable_mask.sum()\n",
    "}\n",
    "total_entries = len(df_files)\n",
    "\n",
    "# --- Plot ---\n",
    "fig, ax = plt.subplots()\n",
    "ax.barh(list(summary.keys()), list(summary.values()), color=\"steelblue\")\n",
    "ax.set_title(f\"File Check Summary (Total entries: {total_entries})\")\n",
    "ax.set_xlabel(\"Number of entries\")\n",
    "plt.tight_layout()\n",
    "plt.show()\n",
    "\n",
    "# --- Filter valid entries ---\n",
    "df_valid = df_files[\n",
    "    (df_files[\"has_image\"]) &\n",
    "    (df_files[\"has_depth\"]) &\n",
    "    (df_files[\"is_blury\"] == False)\n",
    "].reset_index(drop=True)\n",
    "\n",
    "\n",
    "df_valid.to_csv(\"./data/valid_images.csv\", index=False)\n",
    "\n",
    "import gc\n",
    "gc.collect()\n"
   ]
  },
  {
   "cell_type": "code",
   "execution_count": null,
   "id": "989b5b0a",
   "metadata": {},
   "outputs": [],
   "source": [
    "import os\n",
    "import shutil\n",
    "import pandas as pd\n",
    "from tqdm.notebook import tqdm\n",
    "\n",
    "# --- Pfade ---\n",
    "IMAGE_DIR = r\"D:\\Mapillary_Data\"\n",
    "SUITABLE_IMAGE_DIR = r\"D:\\Mapillary_Suitable\"\n",
    "if os.path.exists(SUITABLE_IMAGE_DIR):\n",
    "    shutil.rmtree(SUITABLE_IMAGE_DIR)\n",
    "\n",
    "df_suitable = df_files[\n",
    "    (df_files[\"has_image\"]) &\n",
    "    (df_files[\"has_depth\"]) &\n",
    "    (df_files[\"is_blury\"] == False)\n",
    "]\n",
    "\n",
    "df_suitable = df_suitable.reset_index(drop=True)\n",
    "df_suitable.to_csv(\"./data/valid_images_with_yolo_labels.csv\", index=False)\n",
    "\n"
   ]
  },
  {
   "cell_type": "markdown",
   "id": "f2ab8e71",
   "metadata": {},
   "source": [
    "## Task 2: Do the Yolo Prediciton and combine the 2.0, 2.1 and the 2.2\n",
    "We use the file `Geolocation.py` for it"
   ]
  },
  {
   "cell_type": "code",
   "execution_count": null,
   "id": "48e53582",
   "metadata": {},
   "outputs": [
    {
     "name": "stderr",
     "output_type": "stream",
     "text": [
      "2025-08-07 09:32:02,167 [INFO] 1151693 images already processed – will be skipped.\n",
      "2025-08-07 09:32:14,263 [INFO] 186954 Bilder bereits verarbeitet – werden übersprungen.\n",
      "2025-08-07 09:32:14,331 [INFO] 🔄 Starting combination of 964739 images with YOLO + depth information...\n",
      "2025-08-07 09:32:14,332 [INFO] 🚀 Using 24 workers for multiprocessing\n"
     ]
    },
    {
     "data": {
      "application/vnd.jupyter.widget-view+json": {
       "model_id": "c15d37338a5f486ca85c485dc7380a70",
       "version_major": 2,
       "version_minor": 0
      },
      "text/plain": [
       "Processing Images:   0%|          | 0/964739 [00:00<?, ?it/s]"
      ]
     },
     "metadata": {},
     "output_type": "display_data"
    },
    {
     "name": "stderr",
     "output_type": "stream",
     "text": [
      "2025-08-07 11:19:58,485 [INFO] ✅ Combination finished\n",
      "2025-08-07 11:19:58,485 [INFO]   ➤ Processed images: 964738/964739\n",
      "2025-08-07 11:19:58,485 [INFO]   ➤ Detected objects: 17953325\n",
      "2025-08-07 11:19:58,485 [INFO]   ➤ Missing YOLO files: 0\n",
      "2025-08-07 11:19:58,485 [INFO]   ➤ Missing depth files: 0\n",
      "2025-08-07 11:19:58,487 [INFO]   ➤ Parquet file saved at: d:\\Masterarbeit\\03_Model\\Scripts\\2_Feature_Geolocation\\2_3_Geolocation\\data\\combined_results_json\\combined_output.parquet\n",
      "2025-08-07 11:19:58,487 [INFO]   ➤ Runtime: 6474.51 seconds\n",
      "2025-08-07 11:19:58,487 [INFO]   ➤ Performance: 149.01 images/second\n",
      "2025-08-07 11:20:01,364 [INFO] 📦 Using existing file: D:\\Masterarbeit\\03_Model\\Scripts\\2_Feature_Geolocation\\2_0_Fetch_Mapillary\\data\\images_bbox_basic_geometry.parquet\n",
      "d:\\Masterarbeit\\03_Model\\Scripts\\2_Feature_Geolocation\\2_3_Geolocation\\Geolocation.py:678: MapWithoutReturnDtypeWarning: Calling `map_elements` without specifying `return_dtype` can lead to unpredictable results. Specify `return_dtype` to silence this warning.\n",
      "  df = df.with_columns(\n",
      "2025-08-07 11:21:25,679 [INFO] ✅ Geometries added and saved\n",
      "2025-08-07 11:21:25,680 [INFO]   ➤ Saved file: d:\\Masterarbeit\\03_Model\\Scripts\\2_Feature_Geolocation\\2_3_Geolocation\\data\\combined_results_json\\combined_output_with_geometry.parquet\n",
      "2025-08-07 11:21:25,681 [INFO]   ➤ Number of objects: 17953325\n",
      "2025-08-07 11:21:25,681 [INFO]   ➤ Missing geometries (no match): 0\n",
      "2025-08-07 11:21:25,681 [INFO]   ➤ Runtime: 84.31 seconds\n"
     ]
    }
   ],
   "source": [
    "from config import (\n",
    "    YOLO_MODEL_PATH,\n",
    "    YOLO_OUTPUT_FOLDER,\n",
    "    DEPTH_OUTPUT_FOLDER,\n",
    "    IMAGE_FOLDER,\n",
    "    OUTPUT_JSON_FOLDER,\n",
    "    CSV_PATH,\n",
    "    NUM_IMAGES_TO_SAMPLE,\n",
    "    BATCH_SIZE,\n",
    "    SUITABLE_IMAGE_FOLDER,\n",
    "    DEPTH_METHOD,\n",
    "    CATEGORY_METHOD,\n",
    "    CATEGORY_THRESHOLDS,\n",
    "    CONFIDENCE_THRESHOLD,\n",
    "    PLOT,\n",
    "    PLOT_OUTPUT_FOLDER,\n",
    "    PLOT_OPTIONS,\n",
    "    NUM_WORKERS,\n",
    "    USE_NUMBA,\n",
    "    GPKG_PATH\n",
    ")\n",
    "import logging\n",
    "import time\n",
    "from Geolocation import yolo_batch_inference_folder\n",
    "from Geolocation import combine_yolo_depth\n",
    "from Geolocation import add_geometry_to_parquet_fast\n",
    "from ultralytics import YOLO\n",
    "import pandas as pd\n",
    "import os\n",
    "import shutil\n",
    "t0 = time.time()\n",
    "\n",
    "logging.basicConfig(level=logging.INFO, format='%(asctime)s [%(levelname)s] %(message)s')\n",
    "\n",
    "    # Step 1: Load CSV and filter already processed images\n",
    "if NUM_IMAGES_TO_SAMPLE > 0:\n",
    "    df_valid = pd.read_csv(CSV_PATH).sample(n=NUM_IMAGES_TO_SAMPLE, random_state=42)\n",
    "else:\n",
    "    df_valid = pd.read_csv(CSV_PATH)\n",
    "df_valid_yolo = df_valid[\n",
    "    ~df_valid[\"image_path\"].apply(\n",
    "        lambda p: os.path.exists(\n",
    "                os.path.join(YOLO_OUTPUT_FOLDER, os.path.splitext(os.path.basename(p))[0] + \".npz\")\n",
    "            )\n",
    "        )\n",
    "    ].reset_index(drop=True)\n",
    "\n",
    "logging.info(f\"{len(df_valid) - len(df_valid_yolo)} images already processed – will be skipped.\")\n",
    "\n",
    "t0 = time.time()\n",
    "\n",
    "t0 = time.time()\n",
    "\n",
    "# Step 2: Run YOLO inference in batches\n",
    "for i in range(0, len(df_valid_yolo), BATCH_SIZE):\n",
    "    if os.path.exists(SUITABLE_IMAGE_FOLDER):\n",
    "        shutil.rmtree(SUITABLE_IMAGE_FOLDER)\n",
    "    os.makedirs(SUITABLE_IMAGE_FOLDER, exist_ok=True)\n",
    "\n",
    "    df_batch = df_valid_yolo.iloc[i:i+BATCH_SIZE]\n",
    "    image_batch = df_batch[\"image_path\"].tolist()\n",
    "\n",
    "    success_count = 0\n",
    "\n",
    "    for img_rel_path in image_batch:\n",
    "        src = os.path.join(IMAGE_FOLDER, img_rel_path)\n",
    "        dst = os.path.join(SUITABLE_IMAGE_FOLDER, os.path.basename(img_rel_path))\n",
    "        try:\n",
    "            shutil.copy2(src, dst)\n",
    "            success_count += 1\n",
    "        except Exception as e:\n",
    "            logging.error(f\"Error copying {src}: {e}\")\n",
    "\n",
    "    # YOLO inference\n",
    "    model = YOLO(YOLO_MODEL_PATH)\n",
    "    yolo_batch_inference_folder(model, SUITABLE_IMAGE_FOLDER, YOLO_OUTPUT_FOLDER)\n",
    "\n",
    "    batches_done = (i // BATCH_SIZE) + 1\n",
    "\n",
    "    # Nur alle 5 Batches Zeitmessung und Logging\n",
    "    if batches_done % 15 == 0:\n",
    "        images_done = batches_done * BATCH_SIZE\n",
    "        elapsed_time = time.time() - t0\n",
    "\n",
    "        avg_speed = images_done / elapsed_time if elapsed_time > 0 else 0\n",
    "        images_left = len(df_valid_yolo) - images_done\n",
    "        est_time_left = images_left / avg_speed if avg_speed > 0 else 0\n",
    "\n",
    "        logging.info(\n",
    "            f\"{batches_done} Batches abgeschlossen ({images_done}/{len(df_valid_yolo)} Bilder).\\n\"\n",
    "            f\"Durchschnittliche Geschwindigkeit: {avg_speed:.2f} Bilder/Sekunde\\n\"\n",
    "            f\"Geschätzte verbleibende Zeit: {est_time_left/60/60:.2f} Stunden\"\n",
    "        )\n",
    " \n",
    "    # Step 3: Combine YOLO + Depth\n",
    "os.makedirs(OUTPUT_JSON_FOLDER, exist_ok=True)\n",
    "combine_yolo_depth(\n",
    "        yolo_output_folder=YOLO_OUTPUT_FOLDER,\n",
    "        depth_output_folder=DEPTH_OUTPUT_FOLDER,\n",
    "        image_folder=IMAGE_FOLDER,\n",
    "        output_parquet_path=os.path.join(OUTPUT_JSON_FOLDER, \"combined_output.parquet\"),\n",
    "        image_list=[os.path.basename(p) for p in df_valid[\"image_path\"]],\n",
    "        depth_method=DEPTH_METHOD,\n",
    "        category_method=CATEGORY_METHOD,\n",
    "        category_thresholds=CATEGORY_THRESHOLDS,\n",
    "        min_conf=CONFIDENCE_THRESHOLD,\n",
    "        plot=PLOT,\n",
    "        plot_output_folder=PLOT_OUTPUT_FOLDER,\n",
    "        plot_kwargs=PLOT_OPTIONS,\n",
    "        num_workers=NUM_WORKERS,\n",
    "        use_numba=USE_NUMBA\n",
    "    )\n"
   ]
  },
  {
   "cell_type": "markdown",
   "id": "a217f52b",
   "metadata": {},
   "source": [
    "## Task 5: Join the Parquet and GPKG files with Mapillary metadata and create the Geolocation\n",
    "\n",
    "**Note:**  \n",
    "The coordinates of the taken photo do not represent the actual coordinates of the detected object.\n",
    "\n",
    "---\n",
    "\n",
    "### Already available\n",
    "1. **.parquet** file containing all detected features from step *2_4 Geolocation*  \n",
    "2. **.gpkg** file containing all metadata from the Mapillary dataset  \n",
    "\n",
    "---\n",
    "\n",
    "### Goal\n",
    "1. Join both files with the Mapillary data.  \n",
    "2. Develop an approach to accurately position the data points, since **photo location ≠ object location**.\n",
    "\n",
    "---\n",
    "### Heuristic\n",
    "- Start from the camera point (computed_geometry).\n",
    "\n",
    "-  For non-pano images, shift the point along the viewing ray:\n",
    "\n",
    "    - Direction: computed_compass_angle (degrees from north, clockwise).\n",
    "\n",
    "    - Lateral correction: use the bounding box center’s position in the image to add an in-FOV yaw offset.\n",
    "\n",
    "    - Distance: class-based per z_class (e.g., near ≈ 10 m, medium ≈ 20 m, …).\n",
    "\n",
    "- For pano images: keep the camera position (no single heading).\n",
    "\n",
    "- Reproject to LV95 (EPSG:2056) first so meter shifts are correct.\n",
    "\n",
    "---\n",
    "\n",
    "Labels we dont need:\n",
    "\n",
    "| 0 animal--bird                  | 1 animal--ground-animal           | 59 nature--mountain               | 60 nature--sand                  |\n",
    "|----------------------------------|------------------------------------|------------------------------------|-----------------------------------|\n",
    "| 61 nature--sky                   | 62 nature--snow                    | 63 nature--terrain                 | 65 nature--water                  |\n",
    "| 66 object--banner                | 69 object--catch-basin             |             | 73 object--mailbox                 |\n",
    "|          | 76 object--phone-booth             | 78 object--sign--advertisement     | 79 object--sign--ambiguous         |\n",
    "|            | 83 object--sign--store             | 85 object--support--pole           | 88 object--support--utility-pole   |\n",
    "|   | | 104 object--trash-can              | 106 object--vehicle--boat          |\n",
    "| 109 object--vehicle--caravan     | 117 object--water-valve            | 118 void--car-mount                | 119 void--dynamic                  |\n",
    "| 120 void--ego-vehicle            | 121 void--ground                   | 122 void--static                   |                                   |\n",
    "\n"
   ]
  },
  {
   "cell_type": "code",
   "execution_count": 1,
   "id": "8d9d660f",
   "metadata": {},
   "outputs": [
    {
     "name": "stderr",
     "output_type": "stream",
     "text": [
      "INFO | Reading Parquet (YOLO): D:\\Masterarbeit\\03_Model\\Scripts\\2_Feature_Geolocation\\2_3_Geolocation\\data\\combined_results_json\\combined_output_with_geometry.parquet\n"
     ]
    },
    {
     "name": "stdout",
     "output_type": "stream",
     "text": [
      "z_class\n",
      "near         7458846\n",
      "very near    6458125\n",
      "medium       3491770\n",
      "far           544584\n",
      "Name: count, dtype: int64\n"
     ]
    },
    {
     "name": "stderr",
     "output_type": "stream",
     "text": [
      "INFO | Reading GPKG (Mapillary): D:\\Masterarbeit\\03_Model\\Scripts\\2_Feature_Geolocation\\2_0_Fetch_Mapillary\\data\\images_bbox_fullmeta_with_blur.gpkg\n",
      "INFO | Joined dataset saved: ./data/geolocation_results\\joined_dataset.parquet (12118885 rows)\n",
      "INFO | Processing 12118885 rows in 24 chunks...\n",
      "INFO | Adjusted dataset saved: ./data/geolocation_results\\adjusted_dataset.parquet (12118885 rows)\n"
     ]
    }
   ],
   "source": [
    "import geo_process\n",
    "\n",
    "class Args:\n",
    "    pass\n",
    "\n",
    "args = Args()\n",
    "args.parquet = r\"D:\\Masterarbeit\\03_Model\\Scripts\\2_Feature_Geolocation\\2_3_Geolocation\\data\\combined_results_json\\combined_output_with_geometry.parquet\"\n",
    "args.gpkg = r\"D:\\Masterarbeit\\03_Model\\Scripts\\2_Feature_Geolocation\\2_0_Fetch_Mapillary\\data\\images_bbox_fullmeta_with_blur.gpkg\"\n",
    "args.out_dir = \"./data/geolocation_results\"\n",
    "args.image_width = 1024\n",
    "args.fov = 90.0\n",
    "args.workers = None\n",
    "args.sample = None\n",
    "\n",
    "\n",
    "\n",
    "import pandas as pd\n",
    "\n",
    "df = pd.read_parquet(args.parquet)\n",
    "print(df[\"z_class\"].value_counts())\n",
    "\n",
    "geo_process.main(args)\n"
   ]
  }
 ],
 "metadata": {
  "kernelspec": {
   "display_name": "ultralytics-master-env",
   "language": "python",
   "name": "python3"
  },
  "language_info": {
   "codemirror_mode": {
    "name": "ipython",
    "version": 3
   },
   "file_extension": ".py",
   "mimetype": "text/x-python",
   "name": "python",
   "nbconvert_exporter": "python",
   "pygments_lexer": "ipython3",
   "version": "3.11.11"
  }
 },
 "nbformat": 4,
 "nbformat_minor": 5
}
